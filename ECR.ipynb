{
 "cells": [
  {
   "cell_type": "markdown",
   "id": "f4f0a960",
   "metadata": {},
   "source": [
    "# **ECR - Engenharia**"
   ]
  },
  {
   "cell_type": "markdown",
   "id": "112ded9c",
   "metadata": {},
   "source": [
    "### Importação de bibliotecas\n"
   ]
  },
  {
   "cell_type": "code",
   "execution_count": 23,
   "id": "0793c344",
   "metadata": {},
   "outputs": [],
   "source": [
    "import pandas as pd\n",
    "import numpy as np\n",
    "import re\n",
    "import os\n",
    "import pytesseract\n",
    "from PIL import Image\n",
    "from datetime import datetime\n",
    "import requests\n"
   ]
  }
 ],
 "metadata": {
  "kernelspec": {
   "display_name": ".venv",
   "language": "python",
   "name": "python3"
  },
  "language_info": {
   "codemirror_mode": {
    "name": "ipython",
    "version": 3
   },
   "file_extension": ".py",
   "mimetype": "text/x-python",
   "name": "python",
   "nbconvert_exporter": "python",
   "pygments_lexer": "ipython3",
   "version": "3.13.3"
  }
 },
 "nbformat": 4,
 "nbformat_minor": 5
}
